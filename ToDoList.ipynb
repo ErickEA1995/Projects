{
  "nbformat": 4,
  "nbformat_minor": 0,
  "metadata": {
    "colab": {
      "provenance": [],
      "authorship_tag": "ABX9TyNujQYhjwROr1NV/YTSAEeW",
      "include_colab_link": true
    },
    "kernelspec": {
      "name": "python3",
      "display_name": "Python 3"
    },
    "language_info": {
      "name": "python"
    }
  },
  "cells": [
    {
      "cell_type": "markdown",
      "metadata": {
        "id": "view-in-github",
        "colab_type": "text"
      },
      "source": [
        "<a href=\"https://colab.research.google.com/github/ErickEA1995/Projects/blob/main/ToDoList.ipynb\" target=\"_parent\"><img src=\"https://colab.research.google.com/assets/colab-badge.svg\" alt=\"Open In Colab\"/></a>"
      ]
    },
    {
      "cell_type": "code",
      "execution_count": 16,
      "metadata": {
        "colab": {
          "base_uri": "https://localhost:8080/"
        },
        "id": "tbng48aYgOg8",
        "outputId": "2d212d1d-3cd9-4420-aa0b-d279d25c65e9"
      },
      "outputs": [
        {
          "output_type": "stream",
          "name": "stdout",
          "text": [
            "To Do List:\n",
            "\n",
            "1. Add Task\n",
            "2. View Tasks\n",
            "3. Mark Task as Done\n",
            "4. Exit\n",
            "\n",
            "Enter your choice:4\n",
            "Exiting the program\n"
          ]
        }
      ],
      "source": [
        "def main():\n",
        "\n",
        "    tasks = []\n",
        "    valid_choices = [\"1\", \"2\", \"3\", \"4\"]\n",
        "\n",
        "    while True:\n",
        "\n",
        "         print(\"To Do List:\" )\n",
        "         print()\n",
        "         print(\"1. Add Task\")\n",
        "         print(\"2. View Tasks\")\n",
        "         print(\"3. Mark Task as Done\")\n",
        "         print(\"4. Exit\")\n",
        "         print()\n",
        "\n",
        "         choice = input(\"Enter your choice:\")\n",
        "\n",
        "         if choice == \"1\":\n",
        "             task = input(\"Enter task name: \")\n",
        "             tasks.append({\"task\": task, \"done\": False})\n",
        "             print(\"Task added successfully!\")\n",
        "             print()\n",
        "\n",
        "         elif choice ==\"2\":\n",
        "              print(\"n/Tasks:\")\n",
        "              for idx, task in enumerate(tasks, start=1):\n",
        "                  status = \"Done\" if task[\"done\"] else \"Not Done\"\n",
        "                  print(f\"{idx}. {task['task']} - {status}\")\n",
        "                  print()\n",
        "         elif choice == \"3\":\n",
        "              task_index = int(input(\"Enter the task number to mark as done: \"))\n",
        "              if 1 <= task_index <= len(tasks):\n",
        "                  tasks[task_index - 1][\"done\"] = True\n",
        "                  print(\"Task marked as done!\")\n",
        "                  print()\n",
        "              else:\n",
        "                  print(\"Error please enter a number on the task list\")\n",
        "\n",
        "         elif choice == \"4\":\n",
        "              print(\"Exiting the program\")\n",
        "              break\n",
        "\n",
        "         elif choice not in valid_choices:\n",
        "              print(\"Error please put in a valid choice\")\n",
        "              print()\n",
        "\n",
        "if __name__ == \"__main__\":\n",
        "    main()\n",
        "\n",
        ""
      ]
    }
  ]
}